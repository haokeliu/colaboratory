{
  "nbformat": 4,
  "nbformat_minor": 0,
  "metadata": {
    "colab": {
      "name": "面向对象的机器学习.ipynb",
      "version": "0.3.2",
      "provenance": [],
      "include_colab_link": true
    },
    "kernelspec": {
      "name": "python3",
      "display_name": "Python 3"
    }
  },
  "cells": [
    {
      "cell_type": "markdown",
      "metadata": {
        "id": "view-in-github",
        "colab_type": "text"
      },
      "source": [
        "<a href=\"https://colab.research.google.com/github/haokeliu/colaboratory/blob/master/DeepLearn_Notes/%E9%9D%A2%E5%90%91%E5%AF%B9%E8%B1%A1%E7%9A%84%E6%9C%BA%E5%99%A8%E5%AD%A6%E4%B9%A0.ipynb\" target=\"_parent\"><img src=\"https://colab.research.google.com/assets/colab-badge.svg\" alt=\"Open In Colab\"/></a>"
      ]
    },
    {
      "cell_type": "markdown",
      "metadata": {
        "id": "wRRphkJExCG0",
        "colab_type": "text"
      },
      "source": [
        "###面向对象的机器学习\n",
        "本文中，我们将学习如何适当地创建和使用类与函数，基于 PyTorch 完成机器学习任务。在后续的 notebooks中，都会按照这样的实现结构。\n",
        "####概览\n",
        "我们将会用到的类和函数总计如下：\n",
        "\n",
        "\n",
        "*   词汇表 Vocabulary：用于原始输入和数字形式的相互转换。\n",
        "*   向量器 Vectorizer：输入和输出的 vocabulary 类实例，并为模型把数据向量化。\n",
        "\n",
        "\n",
        "*   数据集 Dataset：处理和拆分数据的 vectorizers。\n",
        "*   模型 Model：处理输入和返回预测值的 PyTorch模型。\n",
        "\n",
        "\n",
        "\n"
      ]
    },
    {
      "cell_type": "code",
      "metadata": {
        "id": "FibpTV_YwHTq",
        "colab_type": "code",
        "colab": {
          "base_uri": "https://localhost:8080/",
          "height": 70
        },
        "outputId": "5f7c90ee-19ec-4dbe-d78c-4f7281f4ecf4"
      },
      "source": [
        "# 加载 PyTorch 库\n",
        "!pip3 install torch"
      ],
      "execution_count": 1,
      "outputs": [
        {
          "output_type": "stream",
          "text": [
            "Requirement already satisfied: torch in /usr/local/lib/python3.6/dist-packages (1.1.0)\n",
            "Requirement already satisfied: numpy in /usr/local/lib/python3.6/dist-packages (from torch) (1.16.3)\n"
          ],
          "name": "stdout"
        }
      ]
    },
    {
      "cell_type": "code",
      "metadata": {
        "id": "nunQtCd8y7jy",
        "colab_type": "code",
        "colab": {}
      },
      "source": [
        "import os\n",
        "from argparse import Namespace\n",
        "import collections\n",
        "import json\n",
        "import matplotlib.pyplot as plt\n",
        "import numpy as np\n",
        "import pandas as pd\n",
        "import re\n",
        "import torch"
      ],
      "execution_count": 0,
      "outputs": []
    },
    {
      "cell_type": "code",
      "metadata": {
        "id": "rDq2rX5zzWeT",
        "colab_type": "code",
        "colab": {}
      },
      "source": [
        "# 设置 Numpy 和 PyTorch 种子\n",
        "def set_seeds(seed,cuda):\n",
        "  np.random.seed(seed)\n",
        "  torch.manual_seed(seed)\n",
        "  if cuda:\n",
        "    torch.cuda.manual_seed_all(seed)\n",
        "# 创建目录\n",
        "def create_dirs(dirpath):\n",
        "  if not os.path.exists(dirpath):\n",
        "    os.makedirs(dirpath)"
      ],
      "execution_count": 0,
      "outputs": []
    },
    {
      "cell_type": "code",
      "metadata": {
        "id": "jIgsbQPsz6ck",
        "colab_type": "code",
        "colab": {
          "base_uri": "https://localhost:8080/",
          "height": 34
        },
        "outputId": "d594c25c-38f7-4906-ceeb-95fd0bd4076a"
      },
      "source": [
        "# 参数\n",
        "args = Namespace(\n",
        "    seed=1234,\n",
        "    cuda=False,\n",
        "    shuffle=True,\n",
        "    data_file=\"names.csv\",\n",
        "    split_data_file=\"split_names.csv\",\n",
        "    vectorizer_file=\"vectorizer.json\",\n",
        "    model_state_file=\"model.pth\",\n",
        "    save_dir=\"names\",\n",
        "    train_size=0.7,\n",
        "    val_size=0.15,\n",
        "    test_size=0.15,\n",
        "    num_epochs=20,\n",
        "    early_stopping_criteria=5,\n",
        "    learning_rate=1e-3,\n",
        "    batch_size=64,\n",
        "    hidden_dim=300,\n",
        "    dropout_p=0.1,\n",
        ")\n",
        "# 设置种子\n",
        "set_seeds(seed = args.seed,cuda=args.cuda)\n",
        "# 创建保存路径\n",
        "create_dirs(args.save_dir)\n",
        "# 展开文件路径\n",
        "args.vectorizer_file = os.path.join(args.save_dir, args.vectorizer_file)\n",
        "args.model_state_file = os.path.join(args.save_dir, args.model_state_file)\n",
        "# 检查 CUDA\n",
        "if not torch.cuda.is_available():\n",
        "  args.cuda = False\n",
        "args.device = torch.device('cuda' if args.cuda else 'cpu')\n",
        "print('Using CUDA:{}'.format(args.cuda))"
      ],
      "execution_count": 4,
      "outputs": [
        {
          "output_type": "stream",
          "text": [
            "Using CUDA:False\n"
          ],
          "name": "stdout"
        }
      ]
    },
    {
      "cell_type": "code",
      "metadata": {
        "id": "KM3Nq8722FFS",
        "colab_type": "code",
        "colab": {}
      },
      "source": [
        ""
      ],
      "execution_count": 0,
      "outputs": []
    }
  ]
}