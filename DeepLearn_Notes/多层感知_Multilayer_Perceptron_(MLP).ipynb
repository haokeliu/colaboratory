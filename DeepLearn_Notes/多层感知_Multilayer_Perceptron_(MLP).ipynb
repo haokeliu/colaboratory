{
  "nbformat": 4,
  "nbformat_minor": 0,
  "metadata": {
    "colab": {
      "name": "多层感知 Multilayer Perceptron (MLP).ipynb",
      "version": "0.3.2",
      "provenance": [],
      "include_colab_link": true
    },
    "kernelspec": {
      "name": "python3",
      "display_name": "Python 3"
    }
  },
  "cells": [
    {
      "cell_type": "markdown",
      "metadata": {
        "id": "view-in-github",
        "colab_type": "text"
      },
      "source": [
        "<a href=\"https://colab.research.google.com/github/haokeliu/colaboratory/blob/master/DeepLearn_Notes/%E5%A4%9A%E5%B1%82%E6%84%9F%E7%9F%A5_Multilayer_Perceptron_(MLP).ipynb\" target=\"_parent\"><img src=\"https://colab.research.google.com/assets/colab-badge.svg\" alt=\"Open In Colab\"/></a>"
      ]
    },
    {
      "cell_type": "markdown",
      "metadata": {
        "id": "sRqHCraoJkEz",
        "colab_type": "text"
      },
      "source": [
        "**数据Data**\n",
        "\n",
        "我们将为分类任务生产一些非线性数据"
      ]
    },
    {
      "cell_type": "code",
      "metadata": {
        "id": "70Qip3vqJO8v",
        "colab_type": "code",
        "colab": {
          "base_uri": "https://localhost:8080/",
          "height": 145
        },
        "outputId": "3c8dab19-de10-417b-9f80-ebfad9c44667"
      },
      "source": [
        "# Load PyTorch library\n",
        "!pip3 install torch torchvision"
      ],
      "execution_count": 1,
      "outputs": [
        {
          "output_type": "stream",
          "text": [
            "Requirement already satisfied: torch in /usr/local/lib/python3.6/dist-packages (1.1.0)\n",
            "Requirement already satisfied: torchvision in /usr/local/lib/python3.6/dist-packages (0.2.2.post3)\n",
            "Requirement already satisfied: numpy in /usr/local/lib/python3.6/dist-packages (from torch) (1.16.3)\n",
            "Requirement already satisfied: six in /usr/local/lib/python3.6/dist-packages (from torchvision) (1.12.0)\n",
            "Requirement already satisfied: pillow>=4.1.1 in /usr/local/lib/python3.6/dist-packages (from torchvision) (4.3.0)\n",
            "Requirement already satisfied: olefile in /usr/local/lib/python3.6/dist-packages (from pillow>=4.1.1->torchvision) (0.46)\n"
          ],
          "name": "stdout"
        }
      ]
    },
    {
      "cell_type": "code",
      "metadata": {
        "id": "pzIGEtpcJitQ",
        "colab_type": "code",
        "colab": {}
      },
      "source": [
        "from argparse import Namespace\n",
        "import matplotlib.pylab as plt\n",
        "import numpy as np\n",
        "import random\n",
        "import torch"
      ],
      "execution_count": 0,
      "outputs": []
    },
    {
      "cell_type": "markdown",
      "metadata": {
        "id": "auHkplDmK3rj",
        "colab_type": "text"
      },
      "source": [
        "Argparse的作用就是为py文件封装好可以选择的参数，使他们更加灵活，丰富。"
      ]
    },
    {
      "cell_type": "code",
      "metadata": {
        "id": "OhT9dhzyKpah",
        "colab_type": "code",
        "colab": {}
      },
      "source": [
        "# Arguments\n",
        "args = Namespace(\n",
        "    seed = 1234,\n",
        "    num_samples_per_class = 500,\n",
        "    dimensions = 2, # n.\t维\n",
        "    num_classes = 3,\n",
        "    train_size = 0.75,\n",
        "    test_size = 0.25,\n",
        "    num_hidden_units = 100,\n",
        "    learning_rate = 1e-0,\n",
        "    regularization = 1e-3,\n",
        "    num_epochs = 200,\n",
        ")\n",
        "# Set seed for reproducability\n",
        "np.random.seed(args.seed)"
      ],
      "execution_count": 0,
      "outputs": []
    },
    {
      "cell_type": "code",
      "metadata": {
        "id": "oefGME5PL_L0",
        "colab_type": "code",
        "colab": {}
      },
      "source": [
        "# Generate non-linear data\n",
        "def generate_data(num_samples_per_class, dimensions, num_classes):\n",
        "    # Make synthetic spiral data\n",
        "    X_original = np.zeros((num_samples_per_class*num_classes, dimensions))\n",
        "    y = np.zeros(num_samples_per_class*num_classes, dtype='uint8')\n",
        "    for j in range(num_classes):\n",
        "        ix = range(num_samples_per_class*j,num_samples_per_class*(j+1))\n",
        "        r = np.linspace(0.0,1,num_samples_per_class) # radius\n",
        "        t = np.linspace(j*4,(j+1)*4,num_samples_per_class) + \\\n",
        "        np.random.randn(num_samples_per_class)*0.2 # theta\n",
        "        X_original[ix] = np.c_[r*np.sin(t), r*np.cos(t)] # 随机点 横坐标sin x 纵坐标 cos x\n",
        "        y[ix] = j # 类别标签 j\n",
        "\n",
        "    # Stack\n",
        "    X = np.hstack([X_original])\n",
        "#     两个拼接数组的方法：\n",
        "#     np.vstack():在竖直方向上堆叠\n",
        "#     np.hstack():在水平方向上平铺\n",
        "    return X, y"
      ],
      "execution_count": 0,
      "outputs": []
    },
    {
      "cell_type": "code",
      "metadata": {
        "id": "nTXSAbejNH4x",
        "colab_type": "code",
        "colab": {
          "base_uri": "https://localhost:8080/",
          "height": 53
        },
        "outputId": "0a24914a-b542-4520-9e60-4db07f5ab43e"
      },
      "source": [
        "# Generate X & y\n",
        "X, y = generate_data(num_samples_per_class=args.num_samples_per_class, \n",
        "                     dimensions=args.dimensions, num_classes=args.num_classes)\n",
        "print (\"X: {0}\".format(np.shape(X)))\n",
        "print (\"y: {0}\".format(np.shape(y)))"
      ],
      "execution_count": 12,
      "outputs": [
        {
          "output_type": "stream",
          "text": [
            "X: (1500, 2)\n",
            "y: (1500,)\n"
          ],
          "name": "stdout"
        }
      ]
    },
    {
      "cell_type": "code",
      "metadata": {
        "id": "rKRmjCjqNSQS",
        "colab_type": "code",
        "colab": {
          "base_uri": "https://localhost:8080/",
          "height": 281
        },
        "outputId": "bca22e28-674d-4f04-f5dd-5e5817212edf"
      },
      "source": [
        "#scatter散点图\n",
        "plt.title(\"Generated non-linear data\")\n",
        "plt.scatter(X[:, 0], X[:, 1], c=y, s=25, cmap=plt.cm.Spectral)\n",
        "plt.show()"
      ],
      "execution_count": 13,
      "outputs": [
        {
          "output_type": "display_data",
          "data": {
            "image/png": "[encoded data removed]",
            "text/plain": [
              "<Figure size 432x288 with 1 Axes>"
            ]
          },
          "metadata": {
            "tags": []
          }
        }
      ]
    },
    {
      "cell_type": "code",
      "metadata": {
        "id": "skqdurvzNYv-",
        "colab_type": "code",
        "colab": {}
      },
      "source": [
        "# Convert to PyTorch tensors\n",
        "X = torch.from_numpy(X).float()\n",
        "y = torch.from_numpy(y).long()"
      ],
      "execution_count": 0,
      "outputs": []
    },
    {
      "cell_type": "code",
      "metadata": {
        "id": "syi1PsysPYRA",
        "colab_type": "code",
        "colab": {
          "base_uri": "https://localhost:8080/",
          "height": 35
        },
        "outputId": "95ed2cf2-e3aa-4c0f-e6c9-ffd5e35a984c"
      },
      "source": [
        "# Shuffle data\n",
        "shuffle_indicies = torch.LongTensor(random.sample(range(0, len(a)), len(a)))\n",
        "#random.sample()可以从指定的序列中，随机的截取指定长度的片断，不作原地修改。\n",
        "X = X[shuffle_indicies]\n",
        "y = y[shuffle_indicies]\n",
        "# Split datasets\n",
        "test_start_idx = int(len(X)*args.train_size)\n",
        "x_train = X[:test_start_idx]\n",
        "y_train = y[:test_start_idx]\n",
        "x_test = X[test_start_idx]\n",
        "y_test = y[test_start_idx]\n",
        "print(\"We have %i train samples and %i test samples.\" % (len(x_train), len(x_test)))"
      ],
      "execution_count": 25,
      "outputs": [
        {
          "output_type": "stream",
          "text": [
            "We have 3 train samples and 2 test samples.\n"
          ],
          "name": "stdout"
        }
      ]
    },
    {
      "cell_type": "markdown",
      "metadata": {
        "id": "j17937yfS059",
        "colab_type": "text"
      },
      "source": [
        "**线性模型 Linear model**\n",
        "在使用神经网络之前，我们先用 PyTorch 的线性模型（逻辑回归）试一下。我们想看看为什么线性模型不能满足数据要求。"
      ]
    },
    {
      "cell_type": "code",
      "metadata": {
        "id": "pcooXquwPkeE",
        "colab_type": "code",
        "colab": {}
      },
      "source": [
        "import torch\n",
        "import torch.nn as nn\n",
        "import torch.nn.functional as F\n",
        "import torch.optim as optim\n",
        "from torch.utils.data import Dataset,DataLoader\n",
        "from tqdm import tqdm_notebook"
      ],
      "execution_count": 0,
      "outputs": []
    },
    {
      "cell_type": "code",
      "metadata": {
        "id": "pXOHWpF2P9gu",
        "colab_type": "code",
        "colab": {}
      },
      "source": [
        "# Linear model\n",
        "class LogisticClassifier(nn.Module):\n",
        "    def __init__(self, input_dim, hidden_dim, output_dim):\n",
        "        super(LogisticClassifier, self).__init__()\n",
        "        self.fc1 = nn.Linear(input_dim, hidden_dim)\n",
        "        self.fc2 = nn.Linear(hidden_dim, output_dim)\n",
        "\n",
        "    def forward(self, x_in, apply_softmax=False):\n",
        "        a_1 = self.fc1(x_in)\n",
        "        y_pred = self.fc2(a_1)\n",
        "\n",
        "        if apply_softmax:\n",
        "            y_pred = F.softmax(y_pred, dim=1)\n",
        "\n",
        "        return y_pred"
      ],
      "execution_count": 0,
      "outputs": []
    },
    {
      "cell_type": "code",
      "metadata": {
        "id": "gbYUUxayUqWr",
        "colab_type": "code",
        "colab": {
          "base_uri": "https://localhost:8080/",
          "height": 89
        },
        "outputId": "470bfc6d-710e-4647-9e5e-922fdd5eef3f"
      },
      "source": [
        "# Initialize model\n",
        "model = LogisticClassifier(input_dim=args.dimensions, \n",
        "                           hidden_dim=args.num_hidden_units, \n",
        "                           output_dim=args.num_classes)\n",
        "print (model.named_modules)"
      ],
      "execution_count": 34,
      "outputs": [
        {
          "output_type": "stream",
          "text": [
            "<bound method Module.named_modules of LogisticClassifier(\n",
            "  (fc1): Linear(in_features=2, out_features=100, bias=True)\n",
            "  (fc2): Linear(in_features=100, out_features=3, bias=True)\n",
            ")>\n"
          ],
          "name": "stdout"
        }
      ]
    },
    {
      "cell_type": "code",
      "metadata": {
        "id": "hz9dYFxMWE-L",
        "colab_type": "code",
        "colab": {}
      },
      "source": [
        "# Optimization\n",
        "loss_fn = nn.CrossEntropyLoss()\n",
        "optimizer = optim.Adam(model.parameters(),lr = args.learning_rate)\n",
        "## Adam optimizer (usually better than SGD)"
      ],
      "execution_count": 0,
      "outputs": []
    },
    {
      "cell_type": "code",
      "metadata": {
        "id": "W4759t6VWmqy",
        "colab_type": "code",
        "colab": {}
      },
      "source": [
        "# Accuracy\n",
        "def get_accuracy(y_pred,y_target):\n",
        "  n_correct = torch.eq(y_pred,y_target).sum().item()\n",
        "  accuracy = n_correct /len(y_pred)*100\n",
        "  return accuracy"
      ],
      "execution_count": 0,
      "outputs": []
    },
    {
      "cell_type": "code",
      "metadata": {
        "id": "MaGOoQzXXCYk",
        "colab_type": "code",
        "colab": {}
      },
      "source": [
        ""
      ],
      "execution_count": 0,
      "outputs": []
    }
  ]
}