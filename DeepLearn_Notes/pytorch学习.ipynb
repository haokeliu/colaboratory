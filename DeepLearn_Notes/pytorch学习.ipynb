{
  "nbformat": 4,
  "nbformat_minor": 0,
  "metadata": {
    "colab": {
      "name": "pytorch学习",
      "version": "0.3.2",
      "provenance": [],
      "collapsed_sections": []
    },
    "kernelspec": {
      "display_name": "Python 3",
      "name": "python3"
    }
  },
  "cells": [
    {
      "cell_type": "code",
      "metadata": {
        "id": "BmBBoWU59sqx",
        "colab_type": "code",
        "outputId": "86f954e9-08a3-4070-8a87-07d8af8cb44b",
        "colab": {
          "base_uri": "https://localhost:8080/",
          "height": 35
        }
      },
      "source": [
        "print(\"hello word\")"
      ],
      "execution_count": 0,
      "outputs": [
        {
          "output_type": "stream",
          "text": [
            "hello word\n"
          ],
          "name": "stdout"
        }
      ]
    },
    {
      "cell_type": "markdown",
      "metadata": {
        "id": "CmHUaZX_V5Vd",
        "colab_type": "text"
      },
      "source": [
        "**Tensor 基础知识**\n",
        "\n",
        "\n",
        "---\n"
      ]
    },
    {
      "cell_type": "code",
      "metadata": {
        "id": "GCsH0Tof9x98",
        "colab_type": "code",
        "outputId": "400c9932-9990-487e-d691-fe705337ddeb",
        "colab": {
          "base_uri": "https://localhost:8080/",
          "height": 53
        }
      },
      "source": [
        "!pip3 install torch"
      ],
      "execution_count": 0,
      "outputs": [
        {
          "output_type": "stream",
          "text": [
            "Requirement already satisfied: torch in /usr/local/lib/python3.6/dist-packages (1.1.0)\n",
            "Requirement already satisfied: numpy in /usr/local/lib/python3.6/dist-packages (from torch) (1.16.3)\n"
          ],
          "name": "stdout"
        }
      ]
    },
    {
      "cell_type": "code",
      "metadata": {
        "id": "lHWs-n-PMSJr",
        "colab_type": "code",
        "colab": {}
      },
      "source": [
        "import numpy as np\n",
        "import torch"
      ],
      "execution_count": 0,
      "outputs": []
    },
    {
      "cell_type": "code",
      "metadata": {
        "id": "mk-jHLN2MZiB",
        "colab_type": "code",
        "outputId": "f002f3bf-348c-4d24-cd2f-185f722728dd",
        "colab": {
          "base_uri": "https://localhost:8080/",
          "height": 125
        }
      },
      "source": [
        "x = torch.Tensor(3,4)\n",
        "print(\"Type:{}\".format(x.type()))\n",
        "print(\"Size:()\".format(x.shape))\n",
        "print(\"Valuses:\\n{}\".format(x))"
      ],
      "execution_count": 0,
      "outputs": [
        {
          "output_type": "stream",
          "text": [
            "Type:torch.FloatTensor\n",
            "Size:()\n",
            "Valuses:\n",
            "tensor([[4.3639e-36, 0.0000e+00, 3.7835e-44, 0.0000e+00],\n",
            "        [       nan, 0.0000e+00, 1.3733e-14, 6.4069e+02],\n",
            "        [4.3066e+21, 1.1824e+22, 4.3066e+21, 6.3828e+28]])\n"
          ],
          "name": "stdout"
        }
      ]
    },
    {
      "cell_type": "code",
      "metadata": {
        "id": "yzB-KWNiMzWt",
        "colab_type": "code",
        "outputId": "4601a3ed-9380-459c-df05-14b76f1223fe",
        "colab": {
          "base_uri": "https://localhost:8080/",
          "height": 53
        }
      },
      "source": [
        "x = torch.randn(2,3)\n",
        "print(x)"
      ],
      "execution_count": 0,
      "outputs": [
        {
          "output_type": "stream",
          "text": [
            "tensor([[-0.6505, -0.7792, -0.7866],\n",
            "        [-0.3394, -0.2947,  0.7264]])\n"
          ],
          "name": "stdout"
        }
      ]
    },
    {
      "cell_type": "code",
      "metadata": {
        "id": "r42ntHB4M5yu",
        "colab_type": "code",
        "outputId": "6602d777-8d12-41d1-a1a2-0e9a3d843f67",
        "colab": {
          "base_uri": "https://localhost:8080/",
          "height": 89
        }
      },
      "source": [
        "x = torch.zeros(2,3)\n",
        "print(x)\n",
        "x = torch.ones(2,3)\n",
        "print(x)"
      ],
      "execution_count": 0,
      "outputs": [
        {
          "output_type": "stream",
          "text": [
            "tensor([[0., 0., 0.],\n",
            "        [0., 0., 0.]])\n",
            "tensor([[1., 1., 1.],\n",
            "        [1., 1., 1.]])\n"
          ],
          "name": "stdout"
        }
      ]
    },
    {
      "cell_type": "code",
      "metadata": {
        "id": "0gvTA13kNFgB",
        "colab_type": "code",
        "outputId": "678cef61-d807-4000-b7d8-7636e9338df7",
        "colab": {
          "base_uri": "https://localhost:8080/",
          "height": 53
        }
      },
      "source": [
        "x = torch.Tensor(3,4)\n",
        "print(\"Type:{}\".format(x.type()))\n",
        "x = x.long()\n",
        "print(\"Type:{}\".format(x.type()))"
      ],
      "execution_count": 0,
      "outputs": [
        {
          "output_type": "stream",
          "text": [
            "Type:torch.FloatTensor\n",
            "Type:torch.LongTensor\n"
          ],
          "name": "stdout"
        }
      ]
    },
    {
      "cell_type": "markdown",
      "metadata": {
        "id": "oQD1AVyIWD-y",
        "colab_type": "text"
      },
      "source": [
        " **Tensor 运算**\n",
        "\n",
        "\n",
        "\n",
        "\n",
        "\n",
        "---\n",
        "\n",
        "\n",
        "\n",
        "\n",
        "\n",
        "\n"
      ]
    },
    {
      "cell_type": "code",
      "metadata": {
        "id": "K7b6GQ_hNlXc",
        "colab_type": "code",
        "colab": {}
      },
      "source": [
        "x = torch.randn(2,3)"
      ],
      "execution_count": 0,
      "outputs": []
    },
    {
      "cell_type": "code",
      "metadata": {
        "id": "PowIsKFKNrdV",
        "colab_type": "code",
        "colab": {}
      },
      "source": [
        "y =torch.randn(2,3)\n",
        "z = x+y"
      ],
      "execution_count": 0,
      "outputs": []
    },
    {
      "cell_type": "code",
      "metadata": {
        "id": "Rp8dYD8zNvEh",
        "colab_type": "code",
        "outputId": "92762cf2-17c1-4e16-be56-4b5f777cd55e",
        "colab": {
          "base_uri": "https://localhost:8080/",
          "height": 89
        }
      },
      "source": [
        "print(\"size:{}\".format(z.shape))\n",
        "print(\"values:\\n{}\".format(z))"
      ],
      "execution_count": 0,
      "outputs": [
        {
          "output_type": "stream",
          "text": [
            "size:torch.Size([2, 3])\n",
            "values:\n",
            "tensor([[-0.0868,  0.7308,  0.3562],\n",
            "        [-1.4166, -0.4415, -0.8053]])\n"
          ],
          "name": "stdout"
        }
      ]
    },
    {
      "cell_type": "code",
      "metadata": {
        "id": "1sajgM9vN3ub",
        "colab_type": "code",
        "outputId": "a6fb5f54-ca22-429c-c69e-aef3dc64ef78",
        "colab": {
          "base_uri": "https://localhost:8080/",
          "height": 89
        }
      },
      "source": [
        "x = torch.randn(2,3)\n",
        "y = torch.randn(3,2)\n",
        "z = torch.mm(x,y)\n",
        "print(\"size:{}\".format(z.shape))\n",
        "print(\"values:\\n{}\".format(z))"
      ],
      "execution_count": 0,
      "outputs": [
        {
          "output_type": "stream",
          "text": [
            "size:torch.Size([2, 2])\n",
            "values:\n",
            "tensor([[ 1.4935,  1.3308],\n",
            "        [-2.1882, -1.6207]])\n"
          ],
          "name": "stdout"
        }
      ]
    },
    {
      "cell_type": "code",
      "metadata": {
        "id": "4ExbYzCfN-L8",
        "colab_type": "code",
        "outputId": "ce855c65-4fcd-4fe9-9326-0e2646e17c08",
        "colab": {
          "base_uri": "https://localhost:8080/",
          "height": 179
        }
      },
      "source": [
        "x = torch.randn(2,3)\n",
        "print(\"size:{}\".format(x.shape))\n",
        "print('values:\\n{}'.format(x))\n",
        "y = torch.t(x)\n",
        "print(\"Size: {}\".format(y.shape)) \n",
        "print(\"Values: \\n{}\".format(y))"
      ],
      "execution_count": 0,
      "outputs": [
        {
          "output_type": "stream",
          "text": [
            "size:torch.Size([2, 3])\n",
            "values:\n",
            "tensor([[ 1.1473, -0.7543, -1.0998],\n",
            "        [-1.0498,  0.8755,  0.5418]])\n",
            "Size: torch.Size([3, 2])\n",
            "Values: \n",
            "tensor([[ 1.1473, -1.0498],\n",
            "        [-0.7543,  0.8755],\n",
            "        [-1.0998,  0.5418]])\n"
          ],
          "name": "stdout"
        }
      ]
    },
    {
      "cell_type": "code",
      "metadata": {
        "id": "BZoAI8FSOc__",
        "colab_type": "code",
        "outputId": "6a0f3f08-0c9a-417a-b825-61d265ed2cf7",
        "colab": {
          "base_uri": "https://localhost:8080/",
          "height": 107
        }
      },
      "source": [
        "z = x.view(3,2)\n",
        "print(\"Size: {}\".format(z.shape)) \n",
        "print(\"Values: \\n{}\".format(z))"
      ],
      "execution_count": 0,
      "outputs": [
        {
          "output_type": "stream",
          "text": [
            "Size: torch.Size([3, 2])\n",
            "Values: \n",
            "tensor([[ 1.1473, -0.7543],\n",
            "        [-1.0998, -1.0498],\n",
            "        [ 0.8755,  0.5418]])\n"
          ],
          "name": "stdout"
        }
      ]
    },
    {
      "cell_type": "code",
      "metadata": {
        "id": "jtTXCHgfOktD",
        "colab_type": "code",
        "outputId": "95c31ecd-d641-4c2b-c48c-2742282ab94e",
        "colab": {
          "base_uri": "https://localhost:8080/",
          "height": 611
        }
      },
      "source": [
        "x = torch.tensor([\n",
        "    [[1,1,1,1], [2,2,2,2], [3,3,3,3]],\n",
        "    [[10,10,10,10], [20,20,20,20], [30,30,30,30]]\n",
        "])\n",
        "print(\"x.size = \",x.size(1))\n",
        "print('size:{}'.format(x.shape))\n",
        "print(\"valuse: \\n{}\\n\".format(x))\n",
        "a = x.view(x.size(1),-1)\n",
        "print('size:{}'.format(a.shape))\n",
        "print(\"valuse: \\n{}\\n\".format(a))\n",
        "b = x.transpose(0,1).contiguous()\n",
        "print(\"Size: {}\".format(b.shape)) \n",
        "print(\"Values: \\n{}\\n\".format(b))\n",
        "c = b.view(b.size(0), -1)\n",
        "print(\"Size: {}\".format(c.shape)) \n",
        "print(\"Values: \\n{}\".format(c))"
      ],
      "execution_count": 0,
      "outputs": [
        {
          "output_type": "stream",
          "text": [
            "x.size =  3\n",
            "size:torch.Size([2, 3, 4])\n",
            "valuse: \n",
            "tensor([[[ 1,  1,  1,  1],\n",
            "         [ 2,  2,  2,  2],\n",
            "         [ 3,  3,  3,  3]],\n",
            "\n",
            "        [[10, 10, 10, 10],\n",
            "         [20, 20, 20, 20],\n",
            "         [30, 30, 30, 30]]])\n",
            "\n",
            "size:torch.Size([3, 8])\n",
            "valuse: \n",
            "tensor([[ 1,  1,  1,  1,  2,  2,  2,  2],\n",
            "        [ 3,  3,  3,  3, 10, 10, 10, 10],\n",
            "        [20, 20, 20, 20, 30, 30, 30, 30]])\n",
            "\n",
            "Size: torch.Size([3, 2, 4])\n",
            "Values: \n",
            "tensor([[[ 1,  1,  1,  1],\n",
            "         [10, 10, 10, 10]],\n",
            "\n",
            "        [[ 2,  2,  2,  2],\n",
            "         [20, 20, 20, 20]],\n",
            "\n",
            "        [[ 3,  3,  3,  3],\n",
            "         [30, 30, 30, 30]]])\n",
            "\n",
            "Size: torch.Size([3, 8])\n",
            "Values: \n",
            "tensor([[ 1,  1,  1,  1, 10, 10, 10, 10],\n",
            "        [ 2,  2,  2,  2, 20, 20, 20, 20],\n",
            "        [ 3,  3,  3,  3, 30, 30, 30, 30]])\n"
          ],
          "name": "stdout"
        }
      ]
    },
    {
      "cell_type": "code",
      "metadata": {
        "id": "Xju2kdJ5RuZC",
        "colab_type": "code",
        "outputId": "2f96f5f9-fc5b-4777-e433-cf9373a5d6cb",
        "colab": {
          "base_uri": "https://localhost:8080/",
          "height": 143
        }
      },
      "source": [
        "x = torch.randn(2,3)\n",
        "print(\"values:\\n{}\".format(x))\n",
        "y = torch.sum(x,dim=0) # 为每列添加各行叠加的值\n",
        "print(\"values: \\n{}\".format(y))\n",
        "z = torch.sum(x,dim=1)# 为每行添加各列叠加的值\n",
        "print(\"values:\\n{}\".format(z))"
      ],
      "execution_count": 0,
      "outputs": [
        {
          "output_type": "stream",
          "text": [
            "values:\n",
            "tensor([[-0.7470, -0.0903, -0.5821],\n",
            "        [ 0.6926,  1.2514,  1.3672]])\n",
            "values: \n",
            "tensor([-0.0544,  1.1611,  0.7851])\n",
            "values:\n",
            "tensor([-1.4194,  3.3112])\n"
          ],
          "name": "stdout"
        }
      ]
    },
    {
      "cell_type": "markdown",
      "metadata": {
        "id": "KvyL2eHnYJd5",
        "colab_type": "text"
      },
      "source": [
        "**索引，切片和级联**\n",
        "\n",
        "\n",
        "---\n",
        "\n"
      ]
    },
    {
      "cell_type": "code",
      "metadata": {
        "id": "8S73Dwk8VnfU",
        "colab_type": "code",
        "outputId": "1ce8511b-7054-4328-9d33-0c4f3a52383a",
        "colab": {
          "base_uri": "https://localhost:8080/",
          "height": 89
        }
      },
      "source": [
        "x = torch.randn(3,4)\n",
        "print(\"x:\\n{}\".format(x))\n"
      ],
      "execution_count": 0,
      "outputs": [
        {
          "output_type": "stream",
          "text": [
            "x:\n",
            "tensor([[-0.4745, -1.7565,  1.4486, -1.0095],\n",
            "        [-1.4893,  0.5599,  1.2234, -0.6488],\n",
            "        [-0.5833, -1.2775, -0.6946, -1.7526]])\n"
          ],
          "name": "stdout"
        }
      ]
    },
    {
      "cell_type": "code",
      "metadata": {
        "id": "WO0gWqMzYaFe",
        "colab_type": "code",
        "colab": {}
      },
      "source": [
        ""
      ],
      "execution_count": 0,
      "outputs": []
    }
  ]
}