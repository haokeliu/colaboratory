{
  "nbformat": 4,
  "nbformat_minor": 0,
  "metadata": {
    "colab": {
      "name": "卷积神经网络 Convolutional Neural Networks.ipynb",
      "version": "0.3.2",
      "provenance": [],
      "include_colab_link": true
    },
    "kernelspec": {
      "name": "python3",
      "display_name": "Python 3"
    }
  },
  "cells": [
    {
      "cell_type": "markdown",
      "metadata": {
        "id": "view-in-github",
        "colab_type": "text"
      },
      "source": [
        "<a href=\"https://colab.research.google.com/github/haokeliu/colaboratory/blob/master/DeepLearn_Notes/%E5%8D%B7%E7%A7%AF%E7%A5%9E%E7%BB%8F%E7%BD%91%E7%BB%9C_Convolutional_Neural_Networks.ipynb\" target=\"_parent\"><img src=\"https://colab.research.google.com/assets/colab-badge.svg\" alt=\"Open In Colab\"/></a>"
      ]
    },
    {
      "cell_type": "markdown",
      "metadata": {
        "id": "FpfPcU2VJ8Cw",
        "colab_type": "text"
      },
      "source": [
        "**目的**： \n",
        "\n",
        "*   检测输入数据的空间结构。Detect spatial substructure from input data.\n",
        "\n",
        "**优点**\n",
        "*   权重数量小（共享）Small number of weights (shared)\n",
        "*可并行的 Parallelizable\n",
        "*检测空间结构（特征提取）Detects spatial substrcutures (feature extractors)\n",
        "*通过滤波器可翻译的 Interpretable via filters\n",
        "*可用于图像、文本、时间序列等 Used for in images/text/time-series etc.\n",
        "\n",
        "**缺点：**\n",
        "\n",
        "*   很多超参数（核大小，步幅等）Many hyperparameters (kernel size, strides, etc.)\n",
        "*   输入宽度必须相同（图像维度，文本长度等）Inputs have to be of same width (image dimensions, text length, etc.)\n",
        "\n",
        "**其他**\n",
        "\n",
        "*   很多深度 CNN 框架持续更新 SOTA 性能 Lot's of deep CNN architectures constantly updated for SOTA performance\n",
        "\n",
        "\n"
      ]
    },
    {
      "cell_type": "code",
      "metadata": {
        "id": "1dIJBStVJzhA",
        "colab_type": "code",
        "colab": {}
      },
      "source": [
        "import torch\n",
        "import torch.nn as nn"
      ],
      "execution_count": 0,
      "outputs": []
    },
    {
      "cell_type": "code",
      "metadata": {
        "id": "7kbKeEJMK4t_",
        "colab_type": "code",
        "colab": {}
      },
      "source": [
        ""
      ],
      "execution_count": 0,
      "outputs": []
    }
  ]
}