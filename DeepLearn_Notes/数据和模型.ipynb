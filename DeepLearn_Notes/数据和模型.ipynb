{
  "nbformat": 4,
  "nbformat_minor": 0,
  "metadata": {
    "colab": {
      "name": "数据和模型",
      "version": "0.3.2",
      "provenance": [],
      "include_colab_link": true
    },
    "kernelspec": {
      "name": "python3",
      "display_name": "Python 3"
    }
  },
  "cells": [
    {
      "cell_type": "markdown",
      "metadata": {
        "id": "view-in-github",
        "colab_type": "text"
      },
      "source": [
        "<a href=\"https://colab.research.google.com/github/haokeliu/colaboratory/blob/master/DeepLearn_Notes/%E6%95%B0%E6%8D%AE%E5%92%8C%E6%A8%A1%E5%9E%8B.ipynb\" target=\"_parent\"><img src=\"https://colab.research.google.com/assets/colab-badge.svg\" alt=\"Open In Colab\"/></a>"
      ]
    },
    {
      "cell_type": "code",
      "metadata": {
        "id": "DW7zlj33lj0Q",
        "colab_type": "code",
        "outputId": "b2958bb0-3039-4b3e-cfee-ab621e6ab2ff",
        "colab": {
          "base_uri": "https://localhost:8080/",
          "height": 73
        }
      },
      "source": [
        "#Load pytorch library\n",
        "!pip3 install torch"
      ],
      "execution_count": 4,
      "outputs": [
        {
          "output_type": "stream",
          "text": [
            "Requirement already satisfied: torch in /usr/local/lib/python3.6/dist-packages (1.1.0)\n",
            "Requirement already satisfied: numpy in /usr/local/lib/python3.6/dist-packages (from torch) (1.16.3)\n"
          ],
          "name": "stdout"
        }
      ]
    },
    {
      "cell_type": "code",
      "metadata": {
        "id": "j9WB6cvhpY7X",
        "colab_type": "code",
        "colab": {}
      },
      "source": [
        "from argparse import Namespace\n",
        "import collections\n",
        "import json\n",
        "import matplotlib.pyplot as plt\n",
        "import numpy as np\n",
        "import pandas as pd \n",
        "import random \n",
        "import torch"
      ],
      "execution_count": 0,
      "outputs": []
    },
    {
      "cell_type": "code",
      "metadata": {
        "id": "5mMsxJd7py2r",
        "colab_type": "code",
        "colab": {}
      },
      "source": [
        "# Set Numpy and PyTorch seeds\n",
        "def set_seeds(seed,cuda):\n",
        "  np.random.seed(seed)\n",
        "  torch.manual_seed(seed)\n",
        "  if cuda:\n",
        "    torch.cuda.manual_seed_all(seed)"
      ],
      "execution_count": 0,
      "outputs": []
    },
    {
      "cell_type": "code",
      "metadata": {
        "id": "wSBBE7SlqLM-",
        "colab_type": "code",
        "outputId": "8e9c606e-fac9-489a-b409-cbeea81e9b8a",
        "colab": {
          "base_uri": "https://localhost:8080/",
          "height": 35
        }
      },
      "source": [
        "#Arguments\n",
        "args = Namespace(\n",
        "    seed = 1234,\n",
        "    cuda = False,\n",
        "    shuffle = True,\n",
        "    data_file = 'tumors.csv',\n",
        "    reduced_data_file = 'tumors_reduced.csv',\n",
        "    train_size = 0.75,\n",
        "    test_size = 0.25,\n",
        "    num_hidden_units = 100,\n",
        "    learning_rate = 1e-3,\n",
        "    num_epochs = 100,\n",
        ")\n",
        "set_seeds(seed = args.seed, cuda = args.cuda)\n",
        "# Check CUDA\n",
        "if not torch.cuda.is_available():\n",
        "    args.cuda = False\n",
        "args.device = torch.device(\"cuda\" if args.cuda else \"cpu\")\n",
        "print(\"Using CUDA: {}\".format(args.cuda))"
      ],
      "execution_count": 7,
      "outputs": [
        {
          "output_type": "stream",
          "text": [
            "Using CUDA: False\n"
          ],
          "name": "stdout"
        }
      ]
    },
    {
      "cell_type": "code",
      "metadata": {
        "id": "BQmKGfERrq9q",
        "colab_type": "code",
        "colab": {}
      },
      "source": [
        "import re\n",
        "import urllib"
      ],
      "execution_count": 0,
      "outputs": []
    },
    {
      "cell_type": "code",
      "metadata": {
        "id": "yOvkeyU49q1b",
        "colab_type": "code",
        "colab": {}
      },
      "source": [
        "#upload data from Github to notebook's local drive\n",
        "url = \"https://raw.githubusercontent.com/GokuMohandas/practicalAI/master/data/tumors.csv\"\n",
        "response = urllib.request.urlopen(url)\n",
        "html = response.read()\n",
        "with open(args.data_file,'wb') as fp:\n",
        "  fp.write(html)"
      ],
      "execution_count": 0,
      "outputs": []
    },
    {
      "cell_type": "code",
      "metadata": {
        "id": "JAakanUL-UPf",
        "colab_type": "code",
        "colab": {
          "base_uri": "https://localhost:8080/",
          "height": 202
        },
        "outputId": "de4c1a6b-7769-4f3a-f718-519dad9cfcf1"
      },
      "source": [
        "# Raw data\n",
        "df = pd.read_csv(args.data_file, header =0)\n",
        "df.head()"
      ],
      "execution_count": 10,
      "outputs": [
        {
          "output_type": "execute_result",
          "data": {
            "text/html": [
              "<div>\n",
              "<style scoped>\n",
              "    .dataframe tbody tr th:only-of-type {\n",
              "        vertical-align: middle;\n",
              "    }\n",
              "\n",
              "    .dataframe tbody tr th {\n",
              "        vertical-align: top;\n",
              "    }\n",
              "\n",
              "    .dataframe thead th {\n",
              "        text-align: right;\n",
              "    }\n",
              "</style>\n",
              "<table border=\"1\" class=\"dataframe\">\n",
              "  <thead>\n",
              "    <tr style=\"text-align: right;\">\n",
              "      <th></th>\n",
              "      <th>leukocyte_count</th>\n",
              "      <th>blood_pressure</th>\n",
              "      <th>tumor</th>\n",
              "    </tr>\n",
              "  </thead>\n",
              "  <tbody>\n",
              "    <tr>\n",
              "      <th>0</th>\n",
              "      <td>13.472969</td>\n",
              "      <td>15.250393</td>\n",
              "      <td>1</td>\n",
              "    </tr>\n",
              "    <tr>\n",
              "      <th>1</th>\n",
              "      <td>10.805510</td>\n",
              "      <td>14.109676</td>\n",
              "      <td>1</td>\n",
              "    </tr>\n",
              "    <tr>\n",
              "      <th>2</th>\n",
              "      <td>13.834053</td>\n",
              "      <td>15.793920</td>\n",
              "      <td>1</td>\n",
              "    </tr>\n",
              "    <tr>\n",
              "      <th>3</th>\n",
              "      <td>9.572811</td>\n",
              "      <td>17.873286</td>\n",
              "      <td>1</td>\n",
              "    </tr>\n",
              "    <tr>\n",
              "      <th>4</th>\n",
              "      <td>7.633667</td>\n",
              "      <td>16.598559</td>\n",
              "      <td>1</td>\n",
              "    </tr>\n",
              "  </tbody>\n",
              "</table>\n",
              "</div>"
            ],
            "text/plain": [
              "   leukocyte_count  blood_pressure  tumor\n",
              "0        13.472969       15.250393      1\n",
              "1        10.805510       14.109676      1\n",
              "2        13.834053       15.793920      1\n",
              "3         9.572811       17.873286      1\n",
              "4         7.633667       16.598559      1"
            ]
          },
          "metadata": {
            "tags": []
          },
          "execution_count": 10
        }
      ]
    },
    {
      "cell_type": "code",
      "metadata": {
        "id": "Pyrf6kB7-xih",
        "colab_type": "code",
        "colab": {}
      },
      "source": [
        "def plot_tumors(df):\n",
        "    i = 0; colors=['r', 'b']\n",
        "    for name, group in df.groupby(\"tumor\"):\n",
        "        plt.scatter(group.leukocyte_count, group.blood_pressure, edgecolors='k',\n",
        "                   color=colors[i]); i += 1\n",
        "    plt.xlabel('leukocyte count')\n",
        "    plt.ylabel('blood pressure')\n",
        "    plt.legend(['0 - benign', '1 - malignant'], loc=\"upper right\")\n",
        "    plt.show()"
      ],
      "execution_count": 0,
      "outputs": []
    },
    {
      "cell_type": "code",
      "metadata": {
        "id": "c_iQZiWhIm5V",
        "colab_type": "code",
        "colab": {
          "base_uri": "https://localhost:8080/",
          "height": 283
        },
        "outputId": "e23319c9-89eb-4316-fdf8-c359f0505118"
      },
      "source": [
        "# Plot data\n",
        "plot_tumors(df)"
      ],
      "execution_count": 12,
      "outputs": [
        {
          "output_type": "display_data",
          "data": {
            "image/png": "[encoded data removed]",
            "text/plain": [
              "<Figure size 432x288 with 1 Axes>"
            ]
          },
          "metadata": {
            "tags": []
          }
        }
      ]
    },
    {
      "cell_type": "code",
      "metadata": {
        "id": "7Q4fX0WYIokR",
        "colab_type": "code",
        "colab": {}
      },
      "source": [
        ""
      ],
      "execution_count": 0,
      "outputs": []
    }
  ]
}