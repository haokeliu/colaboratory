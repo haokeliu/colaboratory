{
  "nbformat": 4,
  "nbformat_minor": 0,
  "metadata": {
    "colab": {
      "name": "pytorch学习",
      "version": "0.3.2",
      "provenance": [],
      "collapsed_sections": [],
      "include_colab_link": true
    },
    "kernelspec": {
      "display_name": "Python 3",
      "name": "python3"
    }
  },
  "cells": [
    {
      "cell_type": "markdown",
      "metadata": {
        "id": "view-in-github",
        "colab_type": "text"
      },
      "source": [
        "<a href=\"https://colab.research.google.com/github/haokeliu/colaboratory/blob/master/pytorch%E5%AD%A6%E4%B9%A0.ipynb\" target=\"_parent\"><img src=\"https://colab.research.google.com/assets/colab-badge.svg\" alt=\"Open In Colab\"/></a>"
      ]
    },
    {
      "cell_type": "code",
      "metadata": {
        "id": "BmBBoWU59sqx",
        "colab_type": "code",
        "outputId": "10e3de33-eb03-4fce-eb1e-b2c26c8e9af1",
        "colab": {
          "base_uri": "https://localhost:8080/",
          "height": 35
        }
      },
      "source": [
        "print(\"hello word\")"
      ],
      "execution_count": 0,
      "outputs": [
        {
          "output_type": "stream",
          "text": [
            "hello word\n"
          ],
          "name": "stdout"
        }
      ]
    },
    {
      "cell_type": "markdown",
      "metadata": {
        "id": "CmHUaZX_V5Vd",
        "colab_type": "text"
      },
      "source": [
        "**Tensor 基础知识**\n",
        "\n",
        "\n",
        "---\n"
      ]
    },
    {
      "cell_type": "code",
      "metadata": {
        "id": "GCsH0Tof9x98",
        "colab_type": "code",
        "outputId": "98becd29-5df1-4f7f-f4fe-2efc0e55610c",
        "colab": {
          "base_uri": "https://localhost:8080/",
          "height": 73
        }
      },
      "source": [
        "!pip3 install torch"
      ],
      "execution_count": 0,
      "outputs": [
        {
          "output_type": "stream",
          "text": [
            "Requirement already satisfied: torch in /usr/local/lib/python3.6/dist-packages (1.1.0)\n",
            "Requirement already satisfied: numpy in /usr/local/lib/python3.6/dist-packages (from torch) (1.16.3)\n"
          ],
          "name": "stdout"
        }
      ]
    },
    {
      "cell_type": "code",
      "metadata": {
        "id": "lHWs-n-PMSJr",
        "colab_type": "code",
        "colab": {}
      },
      "source": [
        "import numpy as np\n",
        "import torch"
      ],
      "execution_count": 0,
      "outputs": []
    },
    {
      "cell_type": "code",
      "metadata": {
        "id": "mk-jHLN2MZiB",
        "colab_type": "code",
        "outputId": "a2ac5eec-59c8-4b29-ebfe-73fe7e222419",
        "colab": {
          "base_uri": "https://localhost:8080/",
          "height": 125
        }
      },
      "source": [
        "x = torch.Tensor(3,4)\n",
        "print(\"Type:{}\".format(x.type()))\n",
        "print(\"Size:()\".format(x.shape))\n",
        "print(\"Valuses:\\n{}\".format(x))"
      ],
      "execution_count": 0,
      "outputs": [
        {
          "output_type": "stream",
          "text": [
            "Type:torch.FloatTensor\n",
            "Size:()\n",
            "Valuses:\n",
            "tensor([[4.6520e-36, 0.0000e+00, 3.7835e-44, 0.0000e+00],\n",
            "        [       nan, 1.5554e-43, 1.3733e-14, 6.4069e+02],\n",
            "        [4.3066e+21, 1.1824e+22, 4.3066e+21, 6.3828e+28]])\n"
          ],
          "name": "stdout"
        }
      ]
    },
    {
      "cell_type": "code",
      "metadata": {
        "id": "yzB-KWNiMzWt",
        "colab_type": "code",
        "outputId": "fbfdbc4d-8984-43d3-b70a-c401c645e1cb",
        "colab": {
          "base_uri": "https://localhost:8080/",
          "height": 53
        }
      },
      "source": [
        "x = torch.randn(2,3)\n",
        "print(x)"
      ],
      "execution_count": 0,
      "outputs": [
        {
          "output_type": "stream",
          "text": [
            "tensor([[0.7386, 0.1633, 1.2330],\n",
            "        [0.5824, 0.8477, 1.6136]])\n"
          ],
          "name": "stdout"
        }
      ]
    },
    {
      "cell_type": "code",
      "metadata": {
        "id": "r42ntHB4M5yu",
        "colab_type": "code",
        "outputId": "ad61e597-7fdf-40a3-edd7-6fdb1eb65d44",
        "colab": {
          "base_uri": "https://localhost:8080/",
          "height": 89
        }
      },
      "source": [
        "x = torch.zeros(2,3)\n",
        "print(x)\n",
        "x = torch.ones(2,3)\n",
        "print(x)"
      ],
      "execution_count": 0,
      "outputs": [
        {
          "output_type": "stream",
          "text": [
            "tensor([[0., 0., 0.],\n",
            "        [0., 0., 0.]])\n",
            "tensor([[1., 1., 1.],\n",
            "        [1., 1., 1.]])\n"
          ],
          "name": "stdout"
        }
      ]
    },
    {
      "cell_type": "code",
      "metadata": {
        "id": "0gvTA13kNFgB",
        "colab_type": "code",
        "outputId": "6adfd3ec-5062-4b21-e574-7dfbae391ab7",
        "colab": {
          "base_uri": "https://localhost:8080/",
          "height": 53
        }
      },
      "source": [
        "x = torch.Tensor(3,4)\n",
        "print(\"Type:{}\".format(x.type()))\n",
        "x = x.long()\n",
        "print(\"Type:{}\".format(x.type()))"
      ],
      "execution_count": 0,
      "outputs": [
        {
          "output_type": "stream",
          "text": [
            "Type:torch.FloatTensor\n",
            "Type:torch.LongTensor\n"
          ],
          "name": "stdout"
        }
      ]
    },
    {
      "cell_type": "markdown",
      "metadata": {
        "id": "oQD1AVyIWD-y",
        "colab_type": "text"
      },
      "source": [
        " **Tensor 运算**\n",
        "\n",
        "\n",
        "\n",
        "\n",
        "\n",
        "---\n",
        "\n",
        "\n",
        "\n",
        "\n",
        "\n",
        "\n"
      ]
    },
    {
      "cell_type": "code",
      "metadata": {
        "id": "K7b6GQ_hNlXc",
        "colab_type": "code",
        "colab": {}
      },
      "source": [
        "x = torch.randn(2,3)"
      ],
      "execution_count": 0,
      "outputs": []
    },
    {
      "cell_type": "code",
      "metadata": {
        "id": "PowIsKFKNrdV",
        "colab_type": "code",
        "colab": {}
      },
      "source": [
        "y =torch.randn(2,3)\n",
        "z = x+y"
      ],
      "execution_count": 0,
      "outputs": []
    },
    {
      "cell_type": "code",
      "metadata": {
        "id": "Rp8dYD8zNvEh",
        "colab_type": "code",
        "outputId": "e8d1622e-20fa-4bce-fb66-9eec79658e0f",
        "colab": {
          "base_uri": "https://localhost:8080/",
          "height": 89
        }
      },
      "source": [
        "print(\"size:{}\".format(z.shape))\n",
        "print(\"values:\\n{}\".format(z))"
      ],
      "execution_count": 0,
      "outputs": [
        {
          "output_type": "stream",
          "text": [
            "size:torch.Size([2, 3])\n",
            "values:\n",
            "tensor([[-1.3409, -2.0613, -2.0996],\n",
            "        [ 0.6537, -0.4032, -1.4478]])\n"
          ],
          "name": "stdout"
        }
      ]
    },
    {
      "cell_type": "code",
      "metadata": {
        "id": "1sajgM9vN3ub",
        "colab_type": "code",
        "outputId": "64b5c761-78ee-4a45-caf4-daa720e53408",
        "colab": {
          "base_uri": "https://localhost:8080/",
          "height": 89
        }
      },
      "source": [
        "x = torch.randn(2,3)\n",
        "y = torch.randn(3,2)\n",
        "z = torch.mm(x,y)\n",
        "print(\"size:{}\".format(z.shape))\n",
        "print(\"values:\\n{}\".format(z))"
      ],
      "execution_count": 0,
      "outputs": [
        {
          "output_type": "stream",
          "text": [
            "size:torch.Size([2, 2])\n",
            "values:\n",
            "tensor([[ 0.1994,  2.2825],\n",
            "        [-0.1956, -0.6065]])\n"
          ],
          "name": "stdout"
        }
      ]
    },
    {
      "cell_type": "code",
      "metadata": {
        "id": "4ExbYzCfN-L8",
        "colab_type": "code",
        "outputId": "0bccbbd0-04c9-4623-c46b-29c9e1253d31",
        "colab": {
          "base_uri": "https://localhost:8080/",
          "height": 179
        }
      },
      "source": [
        "x = torch.randn(2,3)\n",
        "print(\"size:{}\".format(x.shape))\n",
        "print('values:\\n{}'.format(x))\n",
        "y = torch.t(x)\n",
        "print(\"Size: {}\".format(y.shape)) \n",
        "print(\"Values: \\n{}\".format(y))"
      ],
      "execution_count": 0,
      "outputs": [
        {
          "output_type": "stream",
          "text": [
            "size:torch.Size([2, 3])\n",
            "values:\n",
            "tensor([[-0.6660, -0.2810,  1.4448],\n",
            "        [ 1.5700, -0.2242,  0.1157]])\n",
            "Size: torch.Size([3, 2])\n",
            "Values: \n",
            "tensor([[-0.6660,  1.5700],\n",
            "        [-0.2810, -0.2242],\n",
            "        [ 1.4448,  0.1157]])\n"
          ],
          "name": "stdout"
        }
      ]
    },
    {
      "cell_type": "code",
      "metadata": {
        "id": "BZoAI8FSOc__",
        "colab_type": "code",
        "outputId": "e378e148-de61-4e83-9b72-ccc50c85efff",
        "colab": {
          "base_uri": "https://localhost:8080/",
          "height": 107
        }
      },
      "source": [
        "z = x.view(3,2)\n",
        "print(\"Size: {}\".format(z.shape)) \n",
        "print(\"Values: \\n{}\".format(z))"
      ],
      "execution_count": 0,
      "outputs": [
        {
          "output_type": "stream",
          "text": [
            "Size: torch.Size([3, 2])\n",
            "Values: \n",
            "tensor([[-0.6660, -0.2810],\n",
            "        [ 1.4448,  1.5700],\n",
            "        [-0.2242,  0.1157]])\n"
          ],
          "name": "stdout"
        }
      ]
    },
    {
      "cell_type": "code",
      "metadata": {
        "id": "jtTXCHgfOktD",
        "colab_type": "code",
        "colab": {
          "base_uri": "https://localhost:8080/",
          "height": 611
        },
        "outputId": "bc9d3ff0-09f6-43a6-d8f3-68a046f92099"
      },
      "source": [
        "x = torch.tensor([\n",
        "    [[1,1,1,1], [2,2,2,2], [3,3,3,3]],\n",
        "    [[10,10,10,10], [20,20,20,20], [30,30,30,30]]\n",
        "])\n",
        "print(\"x.size = \",x.size(1))\n",
        "print('size:{}'.format(x.shape))\n",
        "print(\"valuse: \\n{}\\n\".format(x))\n",
        "a = x.view(x.size(1),-1)\n",
        "print('size:{}'.format(a.shape))\n",
        "print(\"valuse: \\n{}\\n\".format(a))\n",
        "b = x.transpose(0,1).contiguous()\n",
        "print(\"Size: {}\".format(b.shape)) \n",
        "print(\"Values: \\n{}\\n\".format(b))\n",
        "c = b.view(b.size(0), -1)\n",
        "print(\"Size: {}\".format(c.shape)) \n",
        "print(\"Values: \\n{}\".format(c))"
      ],
      "execution_count": 20,
      "outputs": [
        {
          "output_type": "stream",
          "text": [
            "x.size =  3\n",
            "size:torch.Size([2, 3, 4])\n",
            "valuse: \n",
            "tensor([[[ 1,  1,  1,  1],\n",
            "         [ 2,  2,  2,  2],\n",
            "         [ 3,  3,  3,  3]],\n",
            "\n",
            "        [[10, 10, 10, 10],\n",
            "         [20, 20, 20, 20],\n",
            "         [30, 30, 30, 30]]])\n",
            "\n",
            "size:torch.Size([3, 8])\n",
            "valuse: \n",
            "tensor([[ 1,  1,  1,  1,  2,  2,  2,  2],\n",
            "        [ 3,  3,  3,  3, 10, 10, 10, 10],\n",
            "        [20, 20, 20, 20, 30, 30, 30, 30]])\n",
            "\n",
            "Size: torch.Size([3, 2, 4])\n",
            "Values: \n",
            "tensor([[[ 1,  1,  1,  1],\n",
            "         [10, 10, 10, 10]],\n",
            "\n",
            "        [[ 2,  2,  2,  2],\n",
            "         [20, 20, 20, 20]],\n",
            "\n",
            "        [[ 3,  3,  3,  3],\n",
            "         [30, 30, 30, 30]]])\n",
            "\n",
            "Size: torch.Size([3, 8])\n",
            "Values: \n",
            "tensor([[ 1,  1,  1,  1, 10, 10, 10, 10],\n",
            "        [ 2,  2,  2,  2, 20, 20, 20, 20],\n",
            "        [ 3,  3,  3,  3, 30, 30, 30, 30]])\n"
          ],
          "name": "stdout"
        }
      ]
    },
    {
      "cell_type": "code",
      "metadata": {
        "id": "Xju2kdJ5RuZC",
        "colab_type": "code",
        "colab": {
          "base_uri": "https://localhost:8080/",
          "height": 143
        },
        "outputId": "dbc8367f-fce8-4124-fa6e-d1545335ea83"
      },
      "source": [
        "x = torch.randn(2,3)\n",
        "print(\"values:\\n{}\".format(x))\n",
        "y = torch.sum(x,dim=0)\n",
        "print(\"values: \\n{}\".format(y))\n",
        "z = torch.sum(x,dim=1)\n",
        "print(\"values:\\n{}.format(z)\")"
      ],
      "execution_count": 22,
      "outputs": [
        {
          "output_type": "stream",
          "text": [
            "values:\n",
            "tensor([[-1.9654,  2.0981, -0.9715],\n",
            "        [ 0.9456,  2.0679, -0.2556]])\n",
            "values: \n",
            "tensor([-1.0198,  4.1660, -1.2271])\n",
            "values:\n",
            "{}.format(z)\n"
          ],
          "name": "stdout"
        }
      ]
    },
    {
      "cell_type": "code",
      "metadata": {
        "id": "8S73Dwk8VnfU",
        "colab_type": "code",
        "colab": {}
      },
      "source": [
        ""
      ],
      "execution_count": 0,
      "outputs": []
    }
  ]
}