{
  "nbformat": 4,
  "nbformat_minor": 0,
  "metadata": {
    "colab": {
      "name": "pytorch学习",
      "version": "0.3.2",
      "provenance": [],
      "collapsed_sections": [],
      "include_colab_link": true
    },
    "kernelspec": {
      "name": "python3",
      "display_name": "Python 3"
    },
    "accelerator": "GPU"
  },
  "cells": [
    {
      "cell_type": "markdown",
      "metadata": {
        "id": "view-in-github",
        "colab_type": "text"
      },
      "source": [
        "<a href=\"https://colab.research.google.com/github/haokeliu/colaboratory/blob/master/pytorch%E5%AD%A6%E4%B9%A0.ipynb\" target=\"_parent\"><img src=\"https://colab.research.google.com/assets/colab-badge.svg\" alt=\"Open In Colab\"/></a>"
      ]
    },
    {
      "cell_type": "code",
      "metadata": {
        "id": "BmBBoWU59sqx",
        "colab_type": "code",
        "outputId": "013cdaf0-77e7-4b40-e3cb-9192b8ce1123",
        "colab": {
          "base_uri": "https://localhost:8080/",
          "height": 35
        }
      },
      "source": [
        "print(\"hello word\")"
      ],
      "execution_count": 2,
      "outputs": [
        {
          "output_type": "stream",
          "text": [
            "hello word\n"
          ],
          "name": "stdout"
        }
      ]
    },
    {
      "cell_type": "markdown",
      "metadata": {
        "id": "CmHUaZX_V5Vd",
        "colab_type": "text"
      },
      "source": [
        "**Tensor 基础知识**\n",
        "\n",
        "\n",
        "---\n"
      ]
    },
    {
      "cell_type": "code",
      "metadata": {
        "id": "GCsH0Tof9x98",
        "colab_type": "code",
        "outputId": "5b2b4d3c-e7b2-45ce-a5e1-643da4f033fa",
        "colab": {
          "base_uri": "https://localhost:8080/",
          "height": 53
        }
      },
      "source": [
        "!pip3 install torch"
      ],
      "execution_count": 3,
      "outputs": [
        {
          "output_type": "stream",
          "text": [
            "Requirement already satisfied: torch in /usr/local/lib/python3.6/dist-packages (1.1.0)\n",
            "Requirement already satisfied: numpy in /usr/local/lib/python3.6/dist-packages (from torch) (1.16.3)\n"
          ],
          "name": "stdout"
        }
      ]
    },
    {
      "cell_type": "code",
      "metadata": {
        "id": "lHWs-n-PMSJr",
        "colab_type": "code",
        "colab": {}
      },
      "source": [
        "import numpy as np\n",
        "import torch"
      ],
      "execution_count": 0,
      "outputs": []
    },
    {
      "cell_type": "code",
      "metadata": {
        "id": "mk-jHLN2MZiB",
        "colab_type": "code",
        "outputId": "ba77d3e0-e013-4b2d-dbf2-8794e4f7428d",
        "colab": {
          "base_uri": "https://localhost:8080/",
          "height": 125
        }
      },
      "source": [
        "x = torch.Tensor(3,4)\n",
        "print(\"Type:{}\".format(x.type()))\n",
        "print(\"Size:()\".format(x.shape))\n",
        "print(\"Valuses:\\n{}\".format(x))"
      ],
      "execution_count": 5,
      "outputs": [
        {
          "output_type": "stream",
          "text": [
            "Type:torch.FloatTensor\n",
            "Size:()\n",
            "Valuses:\n",
            "tensor([[4.4008e-37, 0.0000e+00, 3.7835e-44, 0.0000e+00],\n",
            "        [       nan, 1.6723e-24, 1.3733e-14, 6.4069e+02],\n",
            "        [4.3066e+21, 1.1824e+22, 4.3066e+21, 6.3828e+28]])\n"
          ],
          "name": "stdout"
        }
      ]
    },
    {
      "cell_type": "code",
      "metadata": {
        "id": "yzB-KWNiMzWt",
        "colab_type": "code",
        "outputId": "6572ff2a-7a2e-4d93-acec-a1b2124bfe20",
        "colab": {
          "base_uri": "https://localhost:8080/",
          "height": 53
        }
      },
      "source": [
        "x = torch.randn(2,3)\n",
        "print(x)"
      ],
      "execution_count": 6,
      "outputs": [
        {
          "output_type": "stream",
          "text": [
            "tensor([[ 1.0009, -0.6725,  0.3778],\n",
            "        [ 1.6308,  1.3183, -0.6085]])\n"
          ],
          "name": "stdout"
        }
      ]
    },
    {
      "cell_type": "code",
      "metadata": {
        "id": "r42ntHB4M5yu",
        "colab_type": "code",
        "outputId": "9c501cb8-587f-47ac-a430-3eb3535dbe92",
        "colab": {
          "base_uri": "https://localhost:8080/",
          "height": 89
        }
      },
      "source": [
        "x = torch.zeros(2,3)\n",
        "print(x)\n",
        "x = torch.ones(2,3)\n",
        "print(x)"
      ],
      "execution_count": 7,
      "outputs": [
        {
          "output_type": "stream",
          "text": [
            "tensor([[0., 0., 0.],\n",
            "        [0., 0., 0.]])\n",
            "tensor([[1., 1., 1.],\n",
            "        [1., 1., 1.]])\n"
          ],
          "name": "stdout"
        }
      ]
    },
    {
      "cell_type": "code",
      "metadata": {
        "id": "0gvTA13kNFgB",
        "colab_type": "code",
        "outputId": "6b1f77ae-f173-4936-a0bc-8d638430cb43",
        "colab": {
          "base_uri": "https://localhost:8080/",
          "height": 53
        }
      },
      "source": [
        "x = torch.Tensor(3,4)\n",
        "print(\"Type:{}\".format(x.type()))\n",
        "x = x.long()\n",
        "print(\"Type:{}\".format(x.type()))"
      ],
      "execution_count": 8,
      "outputs": [
        {
          "output_type": "stream",
          "text": [
            "Type:torch.FloatTensor\n",
            "Type:torch.LongTensor\n"
          ],
          "name": "stdout"
        }
      ]
    },
    {
      "cell_type": "markdown",
      "metadata": {
        "id": "oQD1AVyIWD-y",
        "colab_type": "text"
      },
      "source": [
        " **Tensor 运算**\n",
        "\n",
        "\n",
        "\n",
        "\n",
        "\n",
        "---\n",
        "\n",
        "\n",
        "\n",
        "\n",
        "\n",
        "\n"
      ]
    },
    {
      "cell_type": "code",
      "metadata": {
        "id": "K7b6GQ_hNlXc",
        "colab_type": "code",
        "colab": {}
      },
      "source": [
        "x = torch.randn(2,3)"
      ],
      "execution_count": 0,
      "outputs": []
    },
    {
      "cell_type": "code",
      "metadata": {
        "id": "PowIsKFKNrdV",
        "colab_type": "code",
        "colab": {}
      },
      "source": [
        "y =torch.randn(2,3)\n",
        "z = x+y"
      ],
      "execution_count": 0,
      "outputs": []
    },
    {
      "cell_type": "code",
      "metadata": {
        "id": "Rp8dYD8zNvEh",
        "colab_type": "code",
        "outputId": "128a6d87-0f3e-4919-8f05-d36274c3d095",
        "colab": {
          "base_uri": "https://localhost:8080/",
          "height": 89
        }
      },
      "source": [
        "print(\"size:{}\".format(z.shape))\n",
        "print(\"values:\\n{}\".format(z))"
      ],
      "execution_count": 11,
      "outputs": [
        {
          "output_type": "stream",
          "text": [
            "size:torch.Size([2, 3])\n",
            "values:\n",
            "tensor([[ 0.3613, -0.0955, -2.2046],\n",
            "        [-0.0296,  0.3024, -0.5606]])\n"
          ],
          "name": "stdout"
        }
      ]
    },
    {
      "cell_type": "code",
      "metadata": {
        "id": "1sajgM9vN3ub",
        "colab_type": "code",
        "outputId": "119c20b0-a049-4b6f-8351-6fe889f1bb91",
        "colab": {
          "base_uri": "https://localhost:8080/",
          "height": 89
        }
      },
      "source": [
        "x = torch.randn(2,3)\n",
        "y = torch.randn(3,2)\n",
        "z = torch.mm(x,y)\n",
        "print(\"size:{}\".format(z.shape))\n",
        "print(\"values:\\n{}\".format(z))"
      ],
      "execution_count": 12,
      "outputs": [
        {
          "output_type": "stream",
          "text": [
            "size:torch.Size([2, 2])\n",
            "values:\n",
            "tensor([[-2.8218, -1.7758],\n",
            "        [ 0.8664, -0.7353]])\n"
          ],
          "name": "stdout"
        }
      ]
    },
    {
      "cell_type": "code",
      "metadata": {
        "id": "4ExbYzCfN-L8",
        "colab_type": "code",
        "outputId": "e7abb8d7-3ab0-4cb6-f926-ac10a7d756ab",
        "colab": {
          "base_uri": "https://localhost:8080/",
          "height": 179
        }
      },
      "source": [
        "x = torch.randn(2,3)\n",
        "print(\"size:{}\".format(x.shape))\n",
        "print('values:\\n{}'.format(x))\n",
        "y = torch.t(x)\n",
        "print(\"Size: {}\".format(y.shape)) \n",
        "print(\"Values: \\n{}\".format(y))"
      ],
      "execution_count": 13,
      "outputs": [
        {
          "output_type": "stream",
          "text": [
            "size:torch.Size([2, 3])\n",
            "values:\n",
            "tensor([[ 0.4594, -0.8403,  1.7724],\n",
            "        [-0.4043, -1.4127,  0.5877]])\n",
            "Size: torch.Size([3, 2])\n",
            "Values: \n",
            "tensor([[ 0.4594, -0.4043],\n",
            "        [-0.8403, -1.4127],\n",
            "        [ 1.7724,  0.5877]])\n"
          ],
          "name": "stdout"
        }
      ]
    },
    {
      "cell_type": "code",
      "metadata": {
        "id": "BZoAI8FSOc__",
        "colab_type": "code",
        "outputId": "8da47317-2cd6-40d9-c858-38ceb4025cb3",
        "colab": {
          "base_uri": "https://localhost:8080/",
          "height": 107
        }
      },
      "source": [
        "z = x.view(3,2)\n",
        "print(\"Size: {}\".format(z.shape)) \n",
        "print(\"Values: \\n{}\".format(z))"
      ],
      "execution_count": 14,
      "outputs": [
        {
          "output_type": "stream",
          "text": [
            "Size: torch.Size([3, 2])\n",
            "Values: \n",
            "tensor([[ 0.4594, -0.8403],\n",
            "        [ 1.7724, -0.4043],\n",
            "        [-1.4127,  0.5877]])\n"
          ],
          "name": "stdout"
        }
      ]
    },
    {
      "cell_type": "code",
      "metadata": {
        "id": "jtTXCHgfOktD",
        "colab_type": "code",
        "outputId": "c4b7bf65-5942-4756-99fa-a6db628718c5",
        "colab": {
          "base_uri": "https://localhost:8080/",
          "height": 611
        }
      },
      "source": [
        "x = torch.tensor([\n",
        "    [[1,1,1,1], [2,2,2,2], [3,3,3,3]],\n",
        "    [[10,10,10,10], [20,20,20,20], [30,30,30,30]]\n",
        "])\n",
        "print(\"x.size = \",x.size(1))\n",
        "print('size:{}'.format(x.shape))\n",
        "print(\"valuse: \\n{}\\n\".format(x))\n",
        "a = x.view(x.size(1),-1)\n",
        "print('size:{}'.format(a.shape))\n",
        "print(\"valuse: \\n{}\\n\".format(a))\n",
        "b = x.transpose(0,1).contiguous()\n",
        "print(\"Size: {}\".format(b.shape)) \n",
        "print(\"Values: \\n{}\\n\".format(b))\n",
        "c = b.view(b.size(0), -1)\n",
        "print(\"Size: {}\".format(c.shape)) \n",
        "print(\"Values: \\n{}\".format(c))"
      ],
      "execution_count": 15,
      "outputs": [
        {
          "output_type": "stream",
          "text": [
            "x.size =  3\n",
            "size:torch.Size([2, 3, 4])\n",
            "valuse: \n",
            "tensor([[[ 1,  1,  1,  1],\n",
            "         [ 2,  2,  2,  2],\n",
            "         [ 3,  3,  3,  3]],\n",
            "\n",
            "        [[10, 10, 10, 10],\n",
            "         [20, 20, 20, 20],\n",
            "         [30, 30, 30, 30]]])\n",
            "\n",
            "size:torch.Size([3, 8])\n",
            "valuse: \n",
            "tensor([[ 1,  1,  1,  1,  2,  2,  2,  2],\n",
            "        [ 3,  3,  3,  3, 10, 10, 10, 10],\n",
            "        [20, 20, 20, 20, 30, 30, 30, 30]])\n",
            "\n",
            "Size: torch.Size([3, 2, 4])\n",
            "Values: \n",
            "tensor([[[ 1,  1,  1,  1],\n",
            "         [10, 10, 10, 10]],\n",
            "\n",
            "        [[ 2,  2,  2,  2],\n",
            "         [20, 20, 20, 20]],\n",
            "\n",
            "        [[ 3,  3,  3,  3],\n",
            "         [30, 30, 30, 30]]])\n",
            "\n",
            "Size: torch.Size([3, 8])\n",
            "Values: \n",
            "tensor([[ 1,  1,  1,  1, 10, 10, 10, 10],\n",
            "        [ 2,  2,  2,  2, 20, 20, 20, 20],\n",
            "        [ 3,  3,  3,  3, 30, 30, 30, 30]])\n"
          ],
          "name": "stdout"
        }
      ]
    },
    {
      "cell_type": "code",
      "metadata": {
        "id": "Xju2kdJ5RuZC",
        "colab_type": "code",
        "outputId": "00605093-f58b-49c7-8d25-ba88fa981ea0",
        "colab": {
          "base_uri": "https://localhost:8080/",
          "height": 143
        }
      },
      "source": [
        "x = torch.randn(2,3)\n",
        "print(\"values:\\n{}\".format(x))\n",
        "y = torch.sum(x,dim=0) # 为每列添加各行叠加的值\n",
        "print(\"values: \\n{}\".format(y))\n",
        "z = torch.sum(x,dim=1)# 为每行添加各列叠加的值\n",
        "print(\"values:\\n{}\".format(z))"
      ],
      "execution_count": 16,
      "outputs": [
        {
          "output_type": "stream",
          "text": [
            "values:\n",
            "tensor([[-1.4294,  0.7661,  0.8125],\n",
            "        [ 0.2685, -0.2799,  0.8751]])\n",
            "values: \n",
            "tensor([-1.1608,  0.4862,  1.6876])\n",
            "values:\n",
            "tensor([0.1491, 0.8638])\n"
          ],
          "name": "stdout"
        }
      ]
    },
    {
      "cell_type": "markdown",
      "metadata": {
        "id": "KvyL2eHnYJd5",
        "colab_type": "text"
      },
      "source": [
        "**索引，切片和级联**\n",
        "\n",
        "\n",
        "---\n",
        "\n"
      ]
    },
    {
      "cell_type": "code",
      "metadata": {
        "id": "8S73Dwk8VnfU",
        "colab_type": "code",
        "outputId": "bc611eee-4851-4c4b-f9a6-8ed8e4965714",
        "colab": {
          "base_uri": "https://localhost:8080/",
          "height": 161
        }
      },
      "source": [
        "x = torch.randn(3,4)\n",
        "print(\"x:\\n{}\".format(x))\n",
        "print(\"x[:1]:\\n{}\".format(x[:1]))\n",
        "print(\"x[:1,1:3]\\n{}\".format(x[:1,1:3]))"
      ],
      "execution_count": 17,
      "outputs": [
        {
          "output_type": "stream",
          "text": [
            "x:\n",
            "tensor([[ 0.9025,  3.1423, -1.8739,  0.3658],\n",
            "        [ 0.2474, -0.6374, -1.0558, -1.9290],\n",
            "        [ 0.5500,  0.6942, -0.3295,  0.1366]])\n",
            "x[:1]:\n",
            "tensor([[ 0.9025,  3.1423, -1.8739,  0.3658]])\n",
            "x[:1,1:3]\n",
            "tensor([[ 3.1423, -1.8739]])\n"
          ],
          "name": "stdout"
        }
      ]
    },
    {
      "cell_type": "code",
      "metadata": {
        "id": "WO0gWqMzYaFe",
        "colab_type": "code",
        "colab": {
          "base_uri": "https://localhost:8080/",
          "height": 197
        },
        "outputId": "8fd0e312-7c4f-4c08-e9fb-1d2b2f121524"
      },
      "source": [
        "# 选择维度索引\n",
        "x = torch.randn(2,3)\n",
        "print(\"vualues:\\n{}\".format(x))\n",
        "col_indices = torch.LongTensor([0,2])\n",
        "print(\"col_indices:\\n{}\".format(col_indices))\n",
        "chosen = torch.index_select(x,dim=1,index =col_indices)# 第0和第2列的值\n",
        "print(\"values:\\nP{}\".format(chosen))\n",
        "row_indices = torch.LongTensor([0,1])\n",
        "chosen = x[row_indices,col_indices]# 来自（0,0）和（2,1）的值\n",
        "print(\"values:\\nP{}\".format(chosen))"
      ],
      "execution_count": 18,
      "outputs": [
        {
          "output_type": "stream",
          "text": [
            "vualues:\n",
            "tensor([[ 0.7549, -1.0409, -0.1362],\n",
            "        [-0.2283, -0.4996,  0.5826]])\n",
            "col_indices:\n",
            "tensor([0, 2])\n",
            "values:\n",
            "Ptensor([[ 0.7549, -0.1362],\n",
            "        [-0.2283,  0.5826]])\n",
            "values:\n",
            "Ptensor([0.7549, 0.5826])\n"
          ],
          "name": "stdout"
        }
      ]
    },
    {
      "cell_type": "code",
      "metadata": {
        "id": "pdnAsQE11h17",
        "colab_type": "code",
        "colab": {
          "base_uri": "https://localhost:8080/",
          "height": 215
        },
        "outputId": "fde16df9-663c-4b23-a123-529b6773d808"
      },
      "source": [
        "# 级联\n",
        "x = torch.randn(2,3)\n",
        "print(\"values:\\n{}\".format(x))\n",
        "y = torch.cat([x,x],dim=0) # 按行堆叠（dim = 1按列堆叠）\n",
        "print(\"values:\\n{}\".format(y))\n",
        "y = torch.cat([x,x],dim=1) # 按列堆叠\n",
        "print(\"values:\\n{}\".format(y))\n",
        "#y = torch.cat([x,x],dim=2) # 按列堆叠（dim = 1按列堆叠）\n",
        "#IndexError: Dimension out of range (expected to be in range of [-2, 1], but got 2)"
      ],
      "execution_count": 19,
      "outputs": [
        {
          "output_type": "stream",
          "text": [
            "values:\n",
            "tensor([[ 0.2869, -0.1382,  0.9660],\n",
            "        [-0.6809, -0.3212,  0.5894]])\n",
            "values:\n",
            "tensor([[ 0.2869, -0.1382,  0.9660],\n",
            "        [-0.6809, -0.3212,  0.5894],\n",
            "        [ 0.2869, -0.1382,  0.9660],\n",
            "        [-0.6809, -0.3212,  0.5894]])\n",
            "values:\n",
            "tensor([[ 0.2869, -0.1382,  0.9660,  0.2869, -0.1382,  0.9660],\n",
            "        [-0.6809, -0.3212,  0.5894, -0.6809, -0.3212,  0.5894]])\n"
          ],
          "name": "stdout"
        }
      ]
    },
    {
      "cell_type": "markdown",
      "metadata": {
        "id": "OIzKhLNo-z6R",
        "colab_type": "text"
      },
      "source": [
        "**梯度**\n",
        "\n",
        "\n",
        "---\n",
        "\n"
      ]
    },
    {
      "cell_type": "code",
      "metadata": {
        "id": "gx_67zvV-VBg",
        "colab_type": "code",
        "colab": {
          "base_uri": "https://localhost:8080/",
          "height": 161
        },
        "outputId": "628480ba-df5b-40d7-8487-6c65900e7281"
      },
      "source": [
        "# 带有gradient bookkeeping的张量\n",
        "x = torch.rand(3,4,requires_grad=True)\n",
        "y = 3*x+2\n",
        "z = y.mean()\n",
        "z.backward() # z是标量\n",
        "print(\"values:\\n{}\".format(x))\n",
        "print(\"x.grad:\\n\",x.grad)"
      ],
      "execution_count": 20,
      "outputs": [
        {
          "output_type": "stream",
          "text": [
            "values:\n",
            "tensor([[0.6141, 0.9284, 0.1290, 0.8803],\n",
            "        [0.8858, 0.0073, 0.2999, 0.7634],\n",
            "        [0.0055, 0.8587, 0.8479, 0.0309]], requires_grad=True)\n",
            "x.grad:\n",
            " tensor([[0.2500, 0.2500, 0.2500, 0.2500],\n",
            "        [0.2500, 0.2500, 0.2500, 0.2500],\n",
            "        [0.2500, 0.2500, 0.2500, 0.2500]])\n"
          ],
          "name": "stdout"
        }
      ]
    },
    {
      "cell_type": "markdown",
      "metadata": {
        "id": "e2AtRDGV_b5j",
        "colab_type": "text"
      },
      "source": [
        ">y = 3x + 2$\n",
        "\n",
        ">$z = \\sum{y}/N$\n",
        "\n",
        "> $\\frac{\\partial(z)}{\\partial(x)} = \\frac{\\partial(z)}{\\partial(y)} \\frac{\\partial(z)}{\\partial(x)} = \\frac{1}{N} * 3 = \\frac{1}{12} * 3 = 0.25$\n",
        "\n",
        ">此时N = 12带入上式得出\n",
        "\n",
        "\n",
        "\n",
        "\n"
      ]
    },
    {
      "cell_type": "markdown",
      "metadata": {
        "id": "ywP0G1wLCBLh",
        "colab_type": "text"
      },
      "source": [
        "**CUDA 张量**\n",
        "\n",
        "\n",
        "---\n",
        "\n"
      ]
    },
    {
      "cell_type": "code",
      "metadata": {
        "id": "BcdEnGA__MiQ",
        "colab_type": "code",
        "colab": {
          "base_uri": "https://localhost:8080/",
          "height": 35
        },
        "outputId": "4bc875d4-05ce-46dc-8400-ec46ff1027d7"
      },
      "source": [
        "print(torch.cuda.torch.cuda.is_available())"
      ],
      "execution_count": 21,
      "outputs": [
        {
          "output_type": "stream",
          "text": [
            "True\n"
          ],
          "name": "stdout"
        }
      ]
    },
    {
      "cell_type": "code",
      "metadata": {
        "id": "jKX_l_B-COq6",
        "colab_type": "code",
        "colab": {
          "base_uri": "https://localhost:8080/",
          "height": 35
        },
        "outputId": "e4c77141-54e7-46f6-ec45-1ef1c3177fda"
      },
      "source": [
        "# 创建一个CPU版的0张量\n",
        "x = torch.Tensor(3,4).to(\"cpu\")\n",
        "print(\"Type:{}\".format(x.type()))"
      ],
      "execution_count": 22,
      "outputs": [
        {
          "output_type": "stream",
          "text": [
            "Type:torch.FloatTensor\n"
          ],
          "name": "stdout"
        }
      ]
    },
    {
      "cell_type": "code",
      "metadata": {
        "id": "2ndM5zqnC3zt",
        "colab_type": "code",
        "colab": {
          "base_uri": "https://localhost:8080/",
          "height": 35
        },
        "outputId": "ff151277-da4f-486d-c2f1-0daee50b74bf"
      },
      "source": [
        "x = torch.Tensor(3,4).to(\"cuda\")\n",
        "print(\"type:{}\".format(x.type()))"
      ],
      "execution_count": 23,
      "outputs": [
        {
          "output_type": "stream",
          "text": [
            "type:torch.cuda.FloatTensor\n"
          ],
          "name": "stdout"
        }
      ]
    },
    {
      "cell_type": "code",
      "metadata": {
        "id": "pu8n70o1DR8i",
        "colab_type": "code",
        "colab": {}
      },
      "source": [
        ""
      ],
      "execution_count": 0,
      "outputs": []
    }
  ]
}